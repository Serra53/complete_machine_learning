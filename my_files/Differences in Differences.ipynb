{
 "cells": [
  {
   "cell_type": "code",
   "execution_count": 2,
   "metadata": {},
   "outputs": [],
   "source": [
    "import pandas as pd\n",
    "import numpy as np\n",
    "import statsmodels.api as sm\n",
    "from causalimpact import CausalImpact"
   ]
  },
  {
   "cell_type": "markdown",
   "metadata": {},
   "source": [
    "### Approach by DD"
   ]
  },
  {
   "cell_type": "markdown",
   "metadata": {},
   "source": [
    "link = https://www.youtube.com/watch?v=J7q2H8aB8bQ"
   ]
  },
  {
   "cell_type": "code",
   "execution_count": 36,
   "metadata": {},
   "outputs": [
    {
     "name": "stdout",
     "output_type": "stream",
     "text": [
      "        Name    y  Dtr  Dpost  DTrXDpost\n",
      "0     Miguel   40    0      0          0\n",
      "2      Julia   80    1      1          1\n",
      "3       Davi   20    0      0          0\n",
      "4     Sophia  100    1      1          1\n",
      "5    Gabriel   30    0      0          0\n",
      "6   Isabella    0    1      0          0\n",
      "7     Arthur   60    0      1          0\n",
      "8    Manuela   40    1      0          0\n",
      "9      Lucas   60    0      1          0\n",
      "10   Giovana   90    0      1          0\n"
     ]
    }
   ],
   "source": [
    "values = {0:[\"Miguel\",    40, 0, 0],\n",
    "          2:[\"Julia\",     80, 1, 1],\n",
    "          3:[\"Davi\",      20, 0, 0],\n",
    "          4:[\"Sophia\",   100, 1, 1],\n",
    "          5:[\"Gabriel\",   30, 0, 0],\n",
    "          6:[\"Isabella\",   0, 1, 0],\n",
    "          7:[\"Arthur\",    60, 0, 1],\n",
    "          8:[\"Manuela\",   40, 1, 0],\n",
    "          9:[\"Lucas\",     60, 0, 1],\n",
    "          10:[\"Giovana\",  90, 0, 1],\n",
    "         }\n",
    "db = pd.DataFrame.from_dict(values, orient=\"index\", columns=[\"Name\", \"y\", \"Dtr\", \"Dpost\"])\n",
    "db[\"DTrXDpost\"] = db[\"Dtr\"] * db[\"Dpost\"]\n",
    "X = db[[\"Dtr\", \"Dpost\", \"DTrXDpost\"]]\n",
    "X = sm.add_constant(X, prepend=False)\n",
    "y = db[\"y\"]\n",
    "print(db)"
   ]
  },
  {
   "cell_type": "code",
   "execution_count": 58,
   "metadata": {
    "scrolled": false
   },
   "outputs": [
    {
     "data": {
      "text/html": [
       "<table class=\"simpletable\">\n",
       "<caption>OLS Regression Results</caption>\n",
       "<tr>\n",
       "  <th>Dep. Variable:</th>            <td>y</td>        <th>  R-squared:         </th> <td>   0.803</td>\n",
       "</tr>\n",
       "<tr>\n",
       "  <th>Model:</th>                   <td>OLS</td>       <th>  Adj. R-squared:    </th> <td>   0.705</td>\n",
       "</tr>\n",
       "<tr>\n",
       "  <th>Method:</th>             <td>Least Squares</td>  <th>  F-statistic:       </th> <td>   8.178</td>\n",
       "</tr>\n",
       "<tr>\n",
       "  <th>Date:</th>             <td>Sun, 01 Mar 2020</td> <th>  Prob (F-statistic):</th>  <td>0.0153</td> \n",
       "</tr>\n",
       "<tr>\n",
       "  <th>Time:</th>                 <td>20:39:05</td>     <th>  Log-Likelihood:    </th> <td> -40.154</td>\n",
       "</tr>\n",
       "<tr>\n",
       "  <th>No. Observations:</th>      <td>    10</td>      <th>  AIC:               </th> <td>   88.31</td>\n",
       "</tr>\n",
       "<tr>\n",
       "  <th>Df Residuals:</th>          <td>     6</td>      <th>  BIC:               </th> <td>   89.52</td>\n",
       "</tr>\n",
       "<tr>\n",
       "  <th>Df Model:</th>              <td>     3</td>      <th>                     </th>     <td> </td>   \n",
       "</tr>\n",
       "<tr>\n",
       "  <th>Covariance Type:</th>      <td>nonrobust</td>    <th>                     </th>     <td> </td>   \n",
       "</tr>\n",
       "</table>\n",
       "<table class=\"simpletable\">\n",
       "<tr>\n",
       "      <td></td>         <th>coef</th>     <th>std err</th>      <th>t</th>      <th>P>|t|</th>  <th>[0.025</th>    <th>0.975]</th>  \n",
       "</tr>\n",
       "<tr>\n",
       "  <th>Dtr</th>       <td>  -10.0000</td> <td>   15.811</td> <td>   -0.632</td> <td> 0.550</td> <td>  -48.689</td> <td>   28.689</td>\n",
       "</tr>\n",
       "<tr>\n",
       "  <th>Dpost</th>     <td>   40.0000</td> <td>   14.142</td> <td>    2.828</td> <td> 0.030</td> <td>    5.395</td> <td>   74.605</td>\n",
       "</tr>\n",
       "<tr>\n",
       "  <th>DTrXDpost</th> <td>   30.0000</td> <td>   22.361</td> <td>    1.342</td> <td> 0.228</td> <td>  -24.715</td> <td>   84.715</td>\n",
       "</tr>\n",
       "<tr>\n",
       "  <th>const</th>     <td>   30.0000</td> <td>   10.000</td> <td>    3.000</td> <td> 0.024</td> <td>    5.531</td> <td>   54.469</td>\n",
       "</tr>\n",
       "</table>\n",
       "<table class=\"simpletable\">\n",
       "<tr>\n",
       "  <th>Omnibus:</th>       <td> 1.732</td> <th>  Durbin-Watson:     </th> <td>   2.278</td>\n",
       "</tr>\n",
       "<tr>\n",
       "  <th>Prob(Omnibus):</th> <td> 0.421</td> <th>  Jarque-Bera (JB):  </th> <td>   0.844</td>\n",
       "</tr>\n",
       "<tr>\n",
       "  <th>Skew:</th>          <td> 0.248</td> <th>  Prob(JB):          </th> <td>   0.656</td>\n",
       "</tr>\n",
       "<tr>\n",
       "  <th>Kurtosis:</th>      <td> 1.667</td> <th>  Cond. No.          </th> <td>    6.41</td>\n",
       "</tr>\n",
       "</table><br/><br/>Warnings:<br/>[1] Standard Errors assume that the covariance matrix of the errors is correctly specified."
      ],
      "text/plain": [
       "<class 'statsmodels.iolib.summary.Summary'>\n",
       "\"\"\"\n",
       "                            OLS Regression Results                            \n",
       "==============================================================================\n",
       "Dep. Variable:                      y   R-squared:                       0.803\n",
       "Model:                            OLS   Adj. R-squared:                  0.705\n",
       "Method:                 Least Squares   F-statistic:                     8.178\n",
       "Date:                Sun, 01 Mar 2020   Prob (F-statistic):             0.0153\n",
       "Time:                        20:39:05   Log-Likelihood:                -40.154\n",
       "No. Observations:                  10   AIC:                             88.31\n",
       "Df Residuals:                       6   BIC:                             89.52\n",
       "Df Model:                           3                                         \n",
       "Covariance Type:            nonrobust                                         \n",
       "==============================================================================\n",
       "                 coef    std err          t      P>|t|      [0.025      0.975]\n",
       "------------------------------------------------------------------------------\n",
       "Dtr          -10.0000     15.811     -0.632      0.550     -48.689      28.689\n",
       "Dpost         40.0000     14.142      2.828      0.030       5.395      74.605\n",
       "DTrXDpost     30.0000     22.361      1.342      0.228     -24.715      84.715\n",
       "const         30.0000     10.000      3.000      0.024       5.531      54.469\n",
       "==============================================================================\n",
       "Omnibus:                        1.732   Durbin-Watson:                   2.278\n",
       "Prob(Omnibus):                  0.421   Jarque-Bera (JB):                0.844\n",
       "Skew:                           0.248   Prob(JB):                        0.656\n",
       "Kurtosis:                       1.667   Cond. No.                         6.41\n",
       "==============================================================================\n",
       "\n",
       "Warnings:\n",
       "[1] Standard Errors assume that the covariance matrix of the errors is correctly specified.\n",
       "\"\"\""
      ]
     },
     "execution_count": 58,
     "metadata": {},
     "output_type": "execute_result"
    }
   ],
   "source": [
    "mod = sm.OLS(y, X, hasconst=True)\n",
    "res = mod.fit()\n",
    "res.summary()"
   ]
  },
  {
   "cell_type": "code",
   "execution_count": 71,
   "metadata": {},
   "outputs": [
    {
     "name": "stdout",
     "output_type": "stream",
     "text": [
      "The DiD is 30.0\n"
     ]
    }
   ],
   "source": [
    "print(\"The DiD is\", round(res.params[\"DTrXDpost\"],2))"
   ]
  },
  {
   "cell_type": "code",
   "execution_count": null,
   "metadata": {},
   "outputs": [],
   "source": []
  },
  {
   "cell_type": "code",
   "execution_count": 4,
   "metadata": {},
   "outputs": [],
   "source": [
    "fp = \"~/Documents/my_documents/courses/complete_machine_learning/datasets/basque.csv\"\n",
    "basque = pd.read_csv(fp, index_col=0)"
   ]
  },
  {
   "cell_type": "code",
   "execution_count": 11,
   "metadata": {
    "scrolled": true
   },
   "outputs": [
    {
     "data": {
      "text/html": [
       "<div>\n",
       "<style scoped>\n",
       "    .dataframe tbody tr th:only-of-type {\n",
       "        vertical-align: middle;\n",
       "    }\n",
       "\n",
       "    .dataframe tbody tr th {\n",
       "        vertical-align: top;\n",
       "    }\n",
       "\n",
       "    .dataframe thead th {\n",
       "        text-align: right;\n",
       "    }\n",
       "</style>\n",
       "<table border=\"1\" class=\"dataframe\">\n",
       "  <thead>\n",
       "    <tr style=\"text-align: right;\">\n",
       "      <th></th>\n",
       "      <th>regionno</th>\n",
       "      <th>regionname</th>\n",
       "      <th>year</th>\n",
       "      <th>gdpcap</th>\n",
       "      <th>sec.agriculture</th>\n",
       "      <th>sec.energy</th>\n",
       "      <th>sec.industry</th>\n",
       "      <th>sec.construction</th>\n",
       "      <th>sec.services.venta</th>\n",
       "      <th>sec.services.nonventa</th>\n",
       "      <th>school.illit</th>\n",
       "      <th>school.prim</th>\n",
       "      <th>school.med</th>\n",
       "      <th>school.high</th>\n",
       "      <th>school.post.high</th>\n",
       "      <th>popdens</th>\n",
       "      <th>invest</th>\n",
       "    </tr>\n",
       "  </thead>\n",
       "  <tbody>\n",
       "    <tr>\n",
       "      <th>1</th>\n",
       "      <td>1</td>\n",
       "      <td>Spain (Espana)</td>\n",
       "      <td>1955</td>\n",
       "      <td>2.354542</td>\n",
       "      <td>NaN</td>\n",
       "      <td>NaN</td>\n",
       "      <td>NaN</td>\n",
       "      <td>NaN</td>\n",
       "      <td>NaN</td>\n",
       "      <td>NaN</td>\n",
       "      <td>NaN</td>\n",
       "      <td>NaN</td>\n",
       "      <td>NaN</td>\n",
       "      <td>NaN</td>\n",
       "      <td>NaN</td>\n",
       "      <td>NaN</td>\n",
       "      <td>NaN</td>\n",
       "    </tr>\n",
       "    <tr>\n",
       "      <th>2</th>\n",
       "      <td>1</td>\n",
       "      <td>Spain (Espana)</td>\n",
       "      <td>1956</td>\n",
       "      <td>2.480149</td>\n",
       "      <td>NaN</td>\n",
       "      <td>NaN</td>\n",
       "      <td>NaN</td>\n",
       "      <td>NaN</td>\n",
       "      <td>NaN</td>\n",
       "      <td>NaN</td>\n",
       "      <td>NaN</td>\n",
       "      <td>NaN</td>\n",
       "      <td>NaN</td>\n",
       "      <td>NaN</td>\n",
       "      <td>NaN</td>\n",
       "      <td>NaN</td>\n",
       "      <td>NaN</td>\n",
       "    </tr>\n",
       "    <tr>\n",
       "      <th>3</th>\n",
       "      <td>1</td>\n",
       "      <td>Spain (Espana)</td>\n",
       "      <td>1957</td>\n",
       "      <td>2.603613</td>\n",
       "      <td>NaN</td>\n",
       "      <td>NaN</td>\n",
       "      <td>NaN</td>\n",
       "      <td>NaN</td>\n",
       "      <td>NaN</td>\n",
       "      <td>NaN</td>\n",
       "      <td>NaN</td>\n",
       "      <td>NaN</td>\n",
       "      <td>NaN</td>\n",
       "      <td>NaN</td>\n",
       "      <td>NaN</td>\n",
       "      <td>NaN</td>\n",
       "      <td>NaN</td>\n",
       "    </tr>\n",
       "    <tr>\n",
       "      <th>4</th>\n",
       "      <td>1</td>\n",
       "      <td>Spain (Espana)</td>\n",
       "      <td>1958</td>\n",
       "      <td>2.637104</td>\n",
       "      <td>NaN</td>\n",
       "      <td>NaN</td>\n",
       "      <td>NaN</td>\n",
       "      <td>NaN</td>\n",
       "      <td>NaN</td>\n",
       "      <td>NaN</td>\n",
       "      <td>NaN</td>\n",
       "      <td>NaN</td>\n",
       "      <td>NaN</td>\n",
       "      <td>NaN</td>\n",
       "      <td>NaN</td>\n",
       "      <td>NaN</td>\n",
       "      <td>NaN</td>\n",
       "    </tr>\n",
       "    <tr>\n",
       "      <th>5</th>\n",
       "      <td>1</td>\n",
       "      <td>Spain (Espana)</td>\n",
       "      <td>1959</td>\n",
       "      <td>2.669880</td>\n",
       "      <td>NaN</td>\n",
       "      <td>NaN</td>\n",
       "      <td>NaN</td>\n",
       "      <td>NaN</td>\n",
       "      <td>NaN</td>\n",
       "      <td>NaN</td>\n",
       "      <td>NaN</td>\n",
       "      <td>NaN</td>\n",
       "      <td>NaN</td>\n",
       "      <td>NaN</td>\n",
       "      <td>NaN</td>\n",
       "      <td>NaN</td>\n",
       "      <td>NaN</td>\n",
       "    </tr>\n",
       "  </tbody>\n",
       "</table>\n",
       "</div>"
      ],
      "text/plain": [
       "   regionno      regionname  year    gdpcap  sec.agriculture  sec.energy  \\\n",
       "1         1  Spain (Espana)  1955  2.354542              NaN         NaN   \n",
       "2         1  Spain (Espana)  1956  2.480149              NaN         NaN   \n",
       "3         1  Spain (Espana)  1957  2.603613              NaN         NaN   \n",
       "4         1  Spain (Espana)  1958  2.637104              NaN         NaN   \n",
       "5         1  Spain (Espana)  1959  2.669880              NaN         NaN   \n",
       "\n",
       "   sec.industry  sec.construction  sec.services.venta  sec.services.nonventa  \\\n",
       "1           NaN               NaN                 NaN                    NaN   \n",
       "2           NaN               NaN                 NaN                    NaN   \n",
       "3           NaN               NaN                 NaN                    NaN   \n",
       "4           NaN               NaN                 NaN                    NaN   \n",
       "5           NaN               NaN                 NaN                    NaN   \n",
       "\n",
       "   school.illit  school.prim  school.med  school.high  school.post.high  \\\n",
       "1           NaN          NaN         NaN          NaN               NaN   \n",
       "2           NaN          NaN         NaN          NaN               NaN   \n",
       "3           NaN          NaN         NaN          NaN               NaN   \n",
       "4           NaN          NaN         NaN          NaN               NaN   \n",
       "5           NaN          NaN         NaN          NaN               NaN   \n",
       "\n",
       "   popdens  invest  \n",
       "1      NaN     NaN  \n",
       "2      NaN     NaN  \n",
       "3      NaN     NaN  \n",
       "4      NaN     NaN  \n",
       "5      NaN     NaN  "
      ]
     },
     "execution_count": 11,
     "metadata": {},
     "output_type": "execute_result"
    }
   ],
   "source": [
    "basque.head()"
   ]
  },
  {
   "cell_type": "code",
   "execution_count": 3,
   "metadata": {},
   "outputs": [
    {
     "ename": "AttributeError",
     "evalue": "module 'statsmodels.tsa' has no attribute 'arima_process'",
     "output_type": "error",
     "traceback": [
      "\u001b[0;31m---------------------------------------------------------------------------\u001b[0m",
      "\u001b[0;31mAttributeError\u001b[0m                            Traceback (most recent call last)",
      "\u001b[0;32m<ipython-input-3-352cbc6d8f5a>\u001b[0m in \u001b[0;36m<module>\u001b[0;34m\u001b[0m\n\u001b[0;32m----> 1\u001b[0;31m \u001b[0mtsa\u001b[0m\u001b[0;34m.\u001b[0m\u001b[0marima_process\u001b[0m\u001b[0;34m\u001b[0m\u001b[0;34m\u001b[0m\u001b[0m\n\u001b[0m",
      "\u001b[0;31mAttributeError\u001b[0m: module 'statsmodels.tsa' has no attribute 'arima_process'"
     ]
    }
   ],
   "source": []
  },
  {
   "cell_type": "code",
   "execution_count": null,
   "metadata": {},
   "outputs": [],
   "source": []
  }
 ],
 "metadata": {
  "kernelspec": {
   "display_name": "Python 3",
   "language": "python",
   "name": "python3"
  },
  "language_info": {
   "codemirror_mode": {
    "name": "ipython",
    "version": 3
   },
   "file_extension": ".py",
   "mimetype": "text/x-python",
   "name": "python",
   "nbconvert_exporter": "python",
   "pygments_lexer": "ipython3",
   "version": "3.6.9"
  }
 },
 "nbformat": 4,
 "nbformat_minor": 4
}
