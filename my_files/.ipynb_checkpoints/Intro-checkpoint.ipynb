{
 "cells": [
  {
   "cell_type": "markdown",
   "metadata": {},
   "source": [
    "### Types of Machine Learning\n",
    "\n",
    "- Supervised (Classification and Regression)\n",
    "- Unsupervised (Clustering and Association)\n",
    "- Reinfocement (Skill Acquisition and Real Time Learning) -> Trial and Error\n",
    "    A program learn troguh trial and error how to play a game. It does not know what to do at first, it jsut play the game a large number of times trying to maximize for a certain output (e.g the total score)."
   ]
  },
  {
   "cell_type": "markdown",
   "metadata": {},
   "source": [
    " ### Framework\n",
    " \n",
    " Link: https://www.mrdbourke.com/a-6-step-field-guide-for-building-machine-learning-projects/\n",
    " \n",
    "1. Problem definition\n",
    "    - Supervised Learning -> You have data and labels\n",
    "    - Unsupervised ->  You have data and no labels. \n",
    "2. Data -> Structured or Unstructured\n",
    "3. Evalutation -> \"What defines succcess for us?\"\n",
    "4. Features -> \"What dp wwe already know about the data?\"\n",
    "5. Modelling -> \"Based on our problem and data, what model should we use?\"\n",
    "6. Experimentation"
   ]
  },
  {
   "cell_type": "code",
   "execution_count": null,
   "metadata": {},
   "outputs": [],
   "source": []
  }
 ],
 "metadata": {
  "kernelspec": {
   "display_name": "Python 3",
   "language": "python",
   "name": "python3"
  },
  "language_info": {
   "codemirror_mode": {
    "name": "ipython",
    "version": 3
   },
   "file_extension": ".py",
   "mimetype": "text/x-python",
   "name": "python",
   "nbconvert_exporter": "python",
   "pygments_lexer": "ipython3",
   "version": "3.6.9"
  }
 },
 "nbformat": 4,
 "nbformat_minor": 4
}
